{
 "cells": [
  {
   "attachments": {},
   "cell_type": "markdown",
   "metadata": {},
   "source": [
    "# TOP 5 STATES TO SET UP ONLINE MICROFINACE MACHINE "
   ]
  },
  {
   "cell_type": "code",
   "execution_count": 470,
   "metadata": {},
   "outputs": [],
   "source": [
    "import numpy as np \n",
    "import pandas as pd \n",
    "import matplotlib.pyplot as plt "
   ]
  },
  {
   "cell_type": "code",
   "execution_count": 471,
   "metadata": {},
   "outputs": [],
   "source": [
    "crimes = pd.read_csv(\"Crime.csv\")\n"
   ]
  },
  {
   "attachments": {},
   "cell_type": "markdown",
   "metadata": {},
   "source": [
    "How many columns and enteries "
   ]
  },
  {
   "cell_type": "code",
   "execution_count": 472,
   "metadata": {},
   "outputs": [
    {
     "data": {
      "text/plain": [
       "0       Andaman & Nicobar Islands\n",
       "1                  Andhra Pradesh\n",
       "2               Arunachal Pradesh\n",
       "3                           Assam\n",
       "4                           Bihar\n",
       "                  ...            \n",
       "2444                   Tamil Nadu\n",
       "2445                      Tripura\n",
       "2446                Uttar Pradesh\n",
       "2447                  Uttarakhand\n",
       "2448                  West Bengal\n",
       "Name: Area_Name, Length: 2449, dtype: object"
      ]
     },
     "execution_count": 472,
     "metadata": {},
     "output_type": "execute_result"
    }
   ],
   "source": [
    "crimes['Area_Name']"
   ]
  },
  {
   "cell_type": "code",
   "execution_count": 473,
   "metadata": {},
   "outputs": [],
   "source": [
    "infra= pd.read_csv(\"Infrastructure.csv\")\n"
   ]
  },
  {
   "cell_type": "code",
   "execution_count": 474,
   "metadata": {},
   "outputs": [
    {
     "name": "stdout",
     "output_type": "stream",
     "text": [
      "<class 'pandas.core.frame.DataFrame'>\n",
      "RangeIndex: 36 entries, 0 to 35\n",
      "Data columns (total 27 columns):\n",
      " #   Column                                            Non-Null Count  Dtype  \n",
      "---  ------                                            --------------  -----  \n",
      " 0   Name of the States                                36 non-null     object \n",
      " 1   National Highways                                 36 non-null     int64  \n",
      " 2   State Highways                                    36 non-null     int64  \n",
      " 3   District Roads                                    36 non-null     int64  \n",
      " 4   Rural Roads                                       36 non-null     int64  \n",
      " 5   Urban roads                                       36 non-null     int64  \n",
      " 6   Project Roads                                     36 non-null     int64  \n",
      " 7   Total road Length                                 36 non-null     int64  \n",
      " 8   Total Area                                        36 non-null     int64  \n",
      " 9     Urban Road density                              35 non-null     float64\n",
      " 10    Rural Road density                              35 non-null     float64\n",
      " 11  Entire State Road length per 1000 sq km           36 non-null     int64  \n",
      " 12  Urban Road lngth per 1000 sq km                   36 non-null     float64\n",
      " 13  Rural Road lngth per 1000 sq km                   36 non-null     float64\n",
      " 14  Road Density                                      36 non-null     float64\n",
      " 15  Road Density per 1000 Sq. Km - National Highways  36 non-null     float64\n",
      " 16  Road Density per 1000 Sq. Km - State Highways     36 non-null     float64\n",
      " 17  Road Density per 1000 Sq. Km - District Roads     36 non-null     int64  \n",
      " 18  Road Density per 1000 Sq. Km - Rural Roads        36 non-null     float64\n",
      " 19  Road Density per 1000 Sq. Km - Urban roads        36 non-null     float64\n",
      " 20  Road Density per 1000 Sq. Km - Project Roads      36 non-null     float64\n",
      " 21  Area                                              36 non-null     int64  \n",
      " 22  Rural Area (2011 census)                          35 non-null     float64\n",
      " 23  Urban Area (2011 census)                          35 non-null     float64\n",
      " 24  Rural Pop (2011 census)                           36 non-null     int64  \n",
      " 25  Urban Pop (2011 census)                           36 non-null     int64  \n",
      " 26  Total  Population                                 36 non-null     int64  \n",
      "dtypes: float64(12), int64(14), object(1)\n",
      "memory usage: 7.7+ KB\n"
     ]
    }
   ],
   "source": [
    "infra.info()\n"
   ]
  },
  {
   "cell_type": "code",
   "execution_count": 475,
   "metadata": {},
   "outputs": [],
   "source": [
    "msme= pd.read_excel('MSME.xls')"
   ]
  },
  {
   "cell_type": "code",
   "execution_count": 476,
   "metadata": {},
   "outputs": [
    {
     "name": "stdout",
     "output_type": "stream",
     "text": [
      "<class 'pandas.core.frame.DataFrame'>\n",
      "RangeIndex: 738 entries, 0 to 737\n",
      "Data columns (total 10 columns):\n",
      " #   Column                Non-Null Count  Dtype \n",
      "---  ------                --------------  ----- \n",
      " 0   DISTRICT_NAME         738 non-null    object\n",
      " 1   STATE                 738 non-null    object\n",
      " 2   MICRO_SERVICE         738 non-null    int64 \n",
      " 3   SMALL_SERVICE         738 non-null    int64 \n",
      " 4   MEDIUM_SERVICE        738 non-null    int64 \n",
      " 5   MICRO_MANUFACTURING   738 non-null    int64 \n",
      " 6   SMALL_MANUFACTURING   738 non-null    int64 \n",
      " 7   MEDIUM_MANUFACTURING  738 non-null    int64 \n",
      " 8   TOTAL_SERVICE         738 non-null    int64 \n",
      " 9   TOTAL_MANUFACTURING   738 non-null    int64 \n",
      "dtypes: int64(8), object(2)\n",
      "memory usage: 57.8+ KB\n"
     ]
    }
   ],
   "source": [
    "msme.info()"
   ]
  },
  {
   "cell_type": "code",
   "execution_count": 477,
   "metadata": {},
   "outputs": [],
   "source": [
    "net= pd.read_excel('NETWORK.xlsx')"
   ]
  },
  {
   "cell_type": "code",
   "execution_count": 478,
   "metadata": {},
   "outputs": [],
   "source": [
    "net.rename(columns={'States':'STATE'}, inplace= True)"
   ]
  },
  {
   "cell_type": "markdown",
   "metadata": {},
   "source": [
    "4 Factors : crimes , infrastructures, micro small and medium enterprises , network availability "
   ]
  },
  {
   "cell_type": "markdown",
   "metadata": {},
   "source": [
    "Crimes , Infrastructure and msme data is referred from kaggel and network availability is \n",
    "referred from www.trai.gov.in"
   ]
  },
  {
   "cell_type": "code",
   "execution_count": 479,
   "metadata": {},
   "outputs": [
    {
     "data": {
      "text/plain": [
       "Andaman & Nicobar Islands    70\n",
       "Puducherry                   70\n",
       "Maharashtra                  70\n",
       "Manipur                      70\n",
       "Meghalaya                    70\n",
       "Mizoram                      70\n",
       "Nagaland                     70\n",
       "Odisha                       70\n",
       "Punjab                       70\n",
       "Andhra Pradesh               70\n",
       "Rajasthan                    70\n",
       "Sikkim                       70\n",
       "Tamil Nadu                   70\n",
       "Tripura                      70\n",
       "Uttar Pradesh                70\n",
       "Uttarakhand                  70\n",
       "Madhya Pradesh               70\n",
       "Kerala                       70\n",
       "Delhi                        70\n",
       "Daman & Diu                  70\n",
       "Arunachal Pradesh            70\n",
       "Assam                        70\n",
       "Bihar                        70\n",
       "Chandigarh                   70\n",
       "Chhattisgarh                 70\n",
       "Dadra & Nagar Haveli         70\n",
       "West Bengal                  70\n",
       "Karnataka                    70\n",
       "Goa                          70\n",
       "Gujarat                      70\n",
       "Haryana                      70\n",
       "Himachal Pradesh             70\n",
       "Jammu & Kashmir              70\n",
       "Jharkhand                    70\n",
       "Lakshadweep                  69\n",
       "Name: Area_Name, dtype: int64"
      ]
     },
     "execution_count": 479,
     "metadata": {},
     "output_type": "execute_result"
    }
   ],
   "source": [
    "crimes['Area_Name'].value_counts()"
   ]
  },
  {
   "cell_type": "markdown",
   "metadata": {},
   "source": [
    "No of cases registered in bulgary per state"
   ]
  },
  {
   "cell_type": "code",
   "execution_count": 480,
   "metadata": {},
   "outputs": [],
   "source": [
    "crimes.rename(columns={'Area_Name':'STATE'}, inplace= True)"
   ]
  },
  {
   "cell_type": "code",
   "execution_count": 481,
   "metadata": {},
   "outputs": [],
   "source": [
    "crime_state =crimes.groupby('STATE').sum()"
   ]
  },
  {
   "cell_type": "code",
   "execution_count": 482,
   "metadata": {},
   "outputs": [
    {
     "data": {
      "text/plain": [
       "0       Andaman & Nicobar Islands\n",
       "1                  Andhra Pradesh\n",
       "2               Arunachal Pradesh\n",
       "3                           Assam\n",
       "4                           Bihar\n",
       "                  ...            \n",
       "2444                   Tamil Nadu\n",
       "2445                      Tripura\n",
       "2446                Uttar Pradesh\n",
       "2447                  Uttarakhand\n",
       "2448                  West Bengal\n",
       "Name: STATE, Length: 2449, dtype: object"
      ]
     },
     "execution_count": 482,
     "metadata": {},
     "output_type": "execute_result"
    }
   ],
   "source": [
    "crimes['STATE']"
   ]
  },
  {
   "cell_type": "code",
   "execution_count": 483,
   "metadata": {},
   "outputs": [],
   "source": [
    "infra.rename(columns={'Name of the States':'STATE'}, inplace= True)"
   ]
  },
  {
   "cell_type": "code",
   "execution_count": 484,
   "metadata": {},
   "outputs": [
    {
     "data": {
      "text/plain": [
       " Andhra Pradesh(*)      1\n",
       " Arunachal Pradesh      1\n",
       " Punjab                 1\n",
       " Rajasthan              1\n",
       " Sikkim                 1\n",
       " Tamil Nadu             1\n",
       " Tripura                1\n",
       " Uttar Pradesh          1\n",
       " Uttarakhand            1\n",
       " West Bengal            1\n",
       " A.& N.Islands          1\n",
       " Chandigarh             1\n",
       " D.& N.Haveli           1\n",
       " Daman & Diu            1\n",
       " Delhi                  1\n",
       " Lakshadweep            1\n",
       " Puducherry             1\n",
       " Odisha                 1\n",
       " Nagaland               1\n",
       " Mizoram                1\n",
       " Himachal Pradesh       1\n",
       " Assam                  1\n",
       " Bihar                  1\n",
       " Chhattisgarh           1\n",
       " Goa                    1\n",
       " Gujarat                1\n",
       " Haryana                1\n",
       " Jammu & Kashmir        1\n",
       " Meghalaya              1\n",
       " Jharkhand              1\n",
       " Karnataka              1\n",
       " Kerala                 1\n",
       " Madhya Pradesh         1\n",
       " Maharashtra            1\n",
       " Manipur                1\n",
       "INDIA (1) ++            1\n",
       "Name: STATE, dtype: int64"
      ]
     },
     "execution_count": 484,
     "metadata": {},
     "output_type": "execute_result"
    }
   ],
   "source": [
    "infra['STATE'].value_counts()"
   ]
  },
  {
   "cell_type": "code",
   "execution_count": 485,
   "metadata": {},
   "outputs": [
    {
     "data": {
      "text/plain": [
       "0     ANDAMAN AND NICOBAR ISLANDS\n",
       "1                  ANDHRA PRADESH\n",
       "2               ARUNACHAL PRADESH\n",
       "3                           ASSAM\n",
       "4                           BIHAR\n",
       "5                      CHANDIGARH\n",
       "6                    CHHATTISGARH\n",
       "7          DADAR AND NAGAR HAVELI\n",
       "8                   DAMAN AND DIU\n",
       "9                           DELHI\n",
       "10                            GOA\n",
       "11                        GUJARAT\n",
       "12                        HARYANA\n",
       "13               HIMACHAL PRADESH\n",
       "14              JAMMU AND KASHMIR\n",
       "15                      JHARKHAND\n",
       "16                      KARNATAKA\n",
       "17                         KERALA\n",
       "18                         LADAKH\n",
       "19                    LAKSHADWEEP\n",
       "20                 MADHYA PRADESH\n",
       "21                    MAHARASHTRA\n",
       "22                        MANIPUR\n",
       "23                      MEGHALAYA\n",
       "24                        MIZORAM\n",
       "25                       NAGALAND\n",
       "26                         ODISHA\n",
       "27                     PUDUCHERRY\n",
       "28                         PUNJAB\n",
       "29                      RAJASTHAN\n",
       "30                         SIKKIM\n",
       "31                     TAMIL NADU\n",
       "32                      TELANGANA\n",
       "33                        TRIPURA\n",
       "34                  UTTAR PRADESH\n",
       "35                    UTTARAKHAND\n",
       "36                    WEST BENGAL\n",
       "Name: STATE, dtype: object"
      ]
     },
     "execution_count": 485,
     "metadata": {},
     "output_type": "execute_result"
    }
   ],
   "source": [
    "msme=msme.groupby('STATE').sum()\n",
    "msme=msme.reset_index()\n",
    "msme['STATE']"
   ]
  },
  {
   "cell_type": "code",
   "execution_count": 486,
   "metadata": {},
   "outputs": [
    {
     "data": {
      "text/html": [
       "<div>\n",
       "<style scoped>\n",
       "    .dataframe tbody tr th:only-of-type {\n",
       "        vertical-align: middle;\n",
       "    }\n",
       "\n",
       "    .dataframe tbody tr th {\n",
       "        vertical-align: top;\n",
       "    }\n",
       "\n",
       "    .dataframe thead th {\n",
       "        text-align: right;\n",
       "    }\n",
       "</style>\n",
       "<table border=\"1\" class=\"dataframe\">\n",
       "  <thead>\n",
       "    <tr style=\"text-align: right;\">\n",
       "      <th></th>\n",
       "      <th>Year</th>\n",
       "      <th>Cases_Property_Recovered</th>\n",
       "      <th>Cases_Property_Stolen</th>\n",
       "      <th>Value_of_Property_Recovered</th>\n",
       "      <th>Value_of_Property_Stolen</th>\n",
       "    </tr>\n",
       "    <tr>\n",
       "      <th>STATE</th>\n",
       "      <th></th>\n",
       "      <th></th>\n",
       "      <th></th>\n",
       "      <th></th>\n",
       "      <th></th>\n",
       "    </tr>\n",
       "  </thead>\n",
       "  <tbody>\n",
       "    <tr>\n",
       "      <th>Andaman &amp; Nicobar Islands</th>\n",
       "      <td>140385</td>\n",
       "      <td>1516</td>\n",
       "      <td>3662</td>\n",
       "      <td>53629194</td>\n",
       "      <td>646746834</td>\n",
       "    </tr>\n",
       "    <tr>\n",
       "      <th>Andhra Pradesh</th>\n",
       "      <td>140385</td>\n",
       "      <td>332510</td>\n",
       "      <td>642822</td>\n",
       "      <td>8320971694</td>\n",
       "      <td>18762833176</td>\n",
       "    </tr>\n",
       "    <tr>\n",
       "      <th>Arunachal Pradesh</th>\n",
       "      <td>140385</td>\n",
       "      <td>6048</td>\n",
       "      <td>16632</td>\n",
       "      <td>646754238</td>\n",
       "      <td>1895885402</td>\n",
       "    </tr>\n",
       "    <tr>\n",
       "      <th>Assam</th>\n",
       "      <td>140385</td>\n",
       "      <td>54784</td>\n",
       "      <td>245560</td>\n",
       "      <td>1521007674</td>\n",
       "      <td>5814831574</td>\n",
       "    </tr>\n",
       "    <tr>\n",
       "      <th>Bihar</th>\n",
       "      <td>140385</td>\n",
       "      <td>63876</td>\n",
       "      <td>411840</td>\n",
       "      <td>1098784766</td>\n",
       "      <td>7549162134</td>\n",
       "    </tr>\n",
       "  </tbody>\n",
       "</table>\n",
       "</div>"
      ],
      "text/plain": [
       "                             Year  Cases_Property_Recovered  \\\n",
       "STATE                                                         \n",
       "Andaman & Nicobar Islands  140385                      1516   \n",
       "Andhra Pradesh             140385                    332510   \n",
       "Arunachal Pradesh          140385                      6048   \n",
       "Assam                      140385                     54784   \n",
       "Bihar                      140385                     63876   \n",
       "\n",
       "                           Cases_Property_Stolen  Value_of_Property_Recovered  \\\n",
       "STATE                                                                           \n",
       "Andaman & Nicobar Islands                   3662                     53629194   \n",
       "Andhra Pradesh                            642822                   8320971694   \n",
       "Arunachal Pradesh                          16632                    646754238   \n",
       "Assam                                     245560                   1521007674   \n",
       "Bihar                                     411840                   1098784766   \n",
       "\n",
       "                           Value_of_Property_Stolen  \n",
       "STATE                                                \n",
       "Andaman & Nicobar Islands                 646746834  \n",
       "Andhra Pradesh                          18762833176  \n",
       "Arunachal Pradesh                        1895885402  \n",
       "Assam                                    5814831574  \n",
       "Bihar                                    7549162134  "
      ]
     },
     "execution_count": 486,
     "metadata": {},
     "output_type": "execute_result"
    }
   ],
   "source": [
    "crime_state.head()"
   ]
  },
  {
   "cell_type": "code",
   "execution_count": 487,
   "metadata": {},
   "outputs": [],
   "source": [
    "crime_state=crime_state.reset_index()"
   ]
  },
  {
   "cell_type": "code",
   "execution_count": 488,
   "metadata": {},
   "outputs": [
    {
     "data": {
      "text/plain": [
       "0     Andaman & Nicobar Islands\n",
       "1                Andhra Pradesh\n",
       "2             Arunachal Pradesh\n",
       "3                         Assam\n",
       "4                         Bihar\n",
       "5                    Chandigarh\n",
       "6                  Chhattisgarh\n",
       "7          Dadra & Nagar Haveli\n",
       "8                   Daman & Diu\n",
       "9                         Delhi\n",
       "10                          Goa\n",
       "11                      Gujarat\n",
       "12                      Haryana\n",
       "13             Himachal Pradesh\n",
       "14              Jammu & Kashmir\n",
       "15                    Jharkhand\n",
       "16                    Karnataka\n",
       "17                       Kerala\n",
       "18                  Lakshadweep\n",
       "19               Madhya Pradesh\n",
       "20                  Maharashtra\n",
       "21                      Manipur\n",
       "22                    Meghalaya\n",
       "23                      Mizoram\n",
       "24                     Nagaland\n",
       "25                       Odisha\n",
       "26                   Puducherry\n",
       "27                       Punjab\n",
       "28                    Rajasthan\n",
       "29                       Sikkim\n",
       "30                   Tamil Nadu\n",
       "31                      Tripura\n",
       "32                Uttar Pradesh\n",
       "33                  Uttarakhand\n",
       "34                  West Bengal\n",
       "Name: STATE, dtype: object"
      ]
     },
     "execution_count": 488,
     "metadata": {},
     "output_type": "execute_result"
    }
   ],
   "source": [
    "crime_state['STATE']"
   ]
  },
  {
   "cell_type": "code",
   "execution_count": 489,
   "metadata": {},
   "outputs": [
    {
     "data": {
      "text/plain": [
       "0        Andhra Pradesh(*)\n",
       "1        Arunachal Pradesh\n",
       "2                    Assam\n",
       "3                    Bihar\n",
       "4             Chhattisgarh\n",
       "5                     Goa \n",
       "6                  Gujarat\n",
       "7                  Haryana\n",
       "8         Himachal Pradesh\n",
       "9          Jammu & Kashmir\n",
       "10               Jharkhand\n",
       "11               Karnataka\n",
       "12                  Kerala\n",
       "13          Madhya Pradesh\n",
       "14             Maharashtra\n",
       "15                Manipur \n",
       "16               Meghalaya\n",
       "17                 Mizoram\n",
       "18                Nagaland\n",
       "19                  Odisha\n",
       "20                  Punjab\n",
       "21               Rajasthan\n",
       "22                  Sikkim\n",
       "23              Tamil Nadu\n",
       "24                 Tripura\n",
       "25           Uttar Pradesh\n",
       "26             Uttarakhand\n",
       "27             West Bengal\n",
       "28          A.& N.Islands \n",
       "29             Chandigarh \n",
       "30           D.& N.Haveli \n",
       "31            Daman & Diu \n",
       "32                  Delhi \n",
       "33            Lakshadweep \n",
       "34             Puducherry \n",
       "35    INDIA (1) ++        \n",
       "Name: STATE, dtype: object"
      ]
     },
     "execution_count": 489,
     "metadata": {},
     "output_type": "execute_result"
    }
   ],
   "source": [
    "\n",
    "infra['STATE']"
   ]
  },
  {
   "cell_type": "markdown",
   "metadata": {},
   "source": []
  },
  {
   "cell_type": "code",
   "execution_count": 490,
   "metadata": {},
   "outputs": [],
   "source": [
    "def format(state):\n",
    "    if '_' in state:\n",
    "        state.replace(' ','_')\n",
    "        return state.upper()\n",
    "    else :\n",
    "        return state\n",
    "    "
   ]
  },
  {
   "cell_type": "code",
   "execution_count": 469,
   "metadata": {},
   "outputs": [
    {
     "data": {
      "text/plain": [
       "0     ANDAMAN & NICOBAR ISLANDS\n",
       "1                ANDHRA PRADESH\n",
       "2             ARUNACHAL PRADESH\n",
       "3                         ASSAM\n",
       "4                         BIHAR\n",
       "5                    CHANDIGARH\n",
       "6                  CHHATTISGARH\n",
       "7          DADRA & NAGAR HAVELI\n",
       "8                   DAMAN & DIU\n",
       "9                         DELHI\n",
       "10                          GOA\n",
       "11                      GUJARAT\n",
       "12                      HARYANA\n",
       "13             HIMACHAL PRADESH\n",
       "14              JAMMU & KASHMIR\n",
       "15                    JHARKHAND\n",
       "16                    KARNATAKA\n",
       "17                       KERALA\n",
       "18                  LAKSHADWEEP\n",
       "19               MADHYA PRADESH\n",
       "20                  MAHARASHTRA\n",
       "21                      MANIPUR\n",
       "22                    MEGHALAYA\n",
       "23                      MIZORAM\n",
       "24                     NAGALAND\n",
       "25                       ODISHA\n",
       "26                   PUDUCHERRY\n",
       "27                       PUNJAB\n",
       "28                    RAJASTHAN\n",
       "29                       SIKKIM\n",
       "30                   TAMIL NADU\n",
       "31                      TRIPURA\n",
       "32                UTTAR PRADESH\n",
       "33                  UTTARAKHAND\n",
       "34                  WEST BENGAL\n",
       "Name: STATE, dtype: object"
      ]
     },
     "execution_count": 469,
     "metadata": {},
     "output_type": "execute_result"
    }
   ],
   "source": [
    "msme['STATE'].apply(lambda x: format(x))\n",
    "infra['STATE'].apply(lambda x: x.upper())\n",
    "crime_state['STATE'].apply(lambda x: x.upper())\n"
   ]
  },
  {
   "cell_type": "code",
   "execution_count": null,
   "metadata": {},
   "outputs": [],
   "source": []
  },
  {
   "cell_type": "code",
   "execution_count": null,
   "metadata": {},
   "outputs": [],
   "source": []
  }
 ],
 "metadata": {
  "kernelspec": {
   "display_name": "Python 3",
   "language": "python",
   "name": "python3"
  },
  "language_info": {
   "codemirror_mode": {
    "name": "ipython",
    "version": 3
   },
   "file_extension": ".py",
   "mimetype": "text/x-python",
   "name": "python",
   "nbconvert_exporter": "python",
   "pygments_lexer": "ipython3",
   "version": "3.10.4"
  },
  "orig_nbformat": 4
 },
 "nbformat": 4,
 "nbformat_minor": 2
}
